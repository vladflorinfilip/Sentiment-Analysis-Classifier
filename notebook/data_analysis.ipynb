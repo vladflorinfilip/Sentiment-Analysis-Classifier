{
 "cells": [
  {
   "cell_type": "markdown",
   "id": "3b9def88-d1b5-4ef4-a6ad-b6601b5e6b74",
   "metadata": {},
   "source": [
    "# Overview\n",
    "This notebook is a project building a sentiment classifier for text of 10,000 movie reviews from IMDb. The dataset is split into 48.22% **positive** and 50.78% **negative** reviews. The smallest and longest reviews are 6- and 9,351-character long, respectively. The project is split in two parts:\n",
    "- The first part uses a Neural Network built with TensorFlow python library:\n",
    "    - Comparison between keras Word2Vec and GloVe\n",
    "    - Use of Dropout and L2 regularization techniques to reduce overfiting\n",
    "    - Selection of threshold using ROC-AOC\n",
    "- The second part uses a Naive Bayes approach to create a sentiment classifier model"
   ]
  },
  {
   "cell_type": "code",
   "execution_count": 26,
   "id": "d9a8499e-a403-430c-81b0-9c93487296fe",
   "metadata": {},
   "outputs": [],
   "source": [
    "import pandas as pd\n",
    "import numpy as np\n",
    "from gensim.models import Word2Vec\n",
    "import re\n",
    "import pickle\n",
    "from scipy import spatial\n",
    "from sklearn.model_selection import train_test_split\n",
    "from sklearn.metrics import confusion_matrix, classification_report, roc_curve, auc\n",
    "from sklearn.utils import shuffle\n",
    "from sklearn.metrics import confusion_matrix\n",
    "from sklearn.metrics.pairwise import cosine_similarity\n",
    "from tensorflow.keras.preprocessing.text import Tokenizer\n",
    "from tensorflow.keras.preprocessing.sequence import pad_sequences\n",
    "from tensorflow.keras.models import Sequential\n",
    "from tensorflow.keras.layers import Embedding, LSTM, Dense, Dropout, Bidirectional, Flatten\n",
    "from tensorflow.keras.callbacks import EarlyStopping\n",
    "from tensorflow.keras.regularizers import l2\n",
    "import tensorflow as tf\n",
    "import matplotlib.pyplot as plt\n",
    "from nltk.tokenize import word_tokenize"
   ]
  },
  {
   "cell_type": "markdown",
   "id": "6f0211be-79cd-4e55-915e-be59864c37a7",
   "metadata": {},
   "source": [
    "## 1. TensorFlow Neural Network\n",
    "For this project, I used a 10,000 movie review database categoriezed into **positive** and **negative** reviews. The data was split into 60-20-20% sets for training, cross validation and testing, respectively. All reviews' text was converted to lowercase letters and had non-alphanumeric characters (e.g., punctuation marks), numbers and on-letter words removed to filter out unimportnat information for the sentiment classification. To speed up the training process, data reviews longer than 200 words (i.e., about 37.1% of the total set) were truncated. The **positive** and **negative** lables were converted to a binary set of 1s and 0s. The reviews were suffled and the ammount of **positive** and **negative** reviews in each of the three sets was cross-checked to avoid skewed datasets. "
   ]
  },
  {
   "cell_type": "code",
   "execution_count": 2,
   "id": "8b8f02bc-51d1-4837-b6b8-149439e220f0",
   "metadata": {},
   "outputs": [],
   "source": [
    "def clean_text(text):\n",
    "    text = text.lower() \n",
    "    text = re.sub(r'[^a-z\\s]', '', text)\n",
    "    text = re.sub(r'\\b\\w\\b', '', text)\n",
    "    text = re.sub(r'\\s+', ' ', text).strip()\n",
    "    return text"
   ]
  },
  {
   "cell_type": "code",
   "execution_count": 3,
   "id": "afd297b7-29f7-4962-b252-f0add429d0cc",
   "metadata": {},
   "outputs": [],
   "source": [
    "def split_data(X, y, test_size=0.2, val_size=0.2):\n",
    "    \"\"\"\n",
    "    Split data into train, validation, and test sets\n",
    "    \"\"\"\n",
    "    X, y = shuffle(X, y, random_state=42)\n",
    "    X_temp, X_test, y_temp, y_test = train_test_split(X, y, test_size=test_size, random_state=42)\n",
    "    val_size_adjusted = val_size / (1 - test_size)\n",
    "    X_train, X_val, y_train, y_val = train_test_split(X_temp, y_temp, test_size=val_size_adjusted, random_state=42)\n",
    "    print(\"Label distribution:\")\n",
    "    print(f\"Train set: {np.unique(y_train, return_counts=True)}\")\n",
    "    print(f\"Validation set: {np.unique(y_val, return_counts=True)}\")\n",
    "    print(f\"Test set: {np.unique(y_test, return_counts=True)}\")\n",
    "    \n",
    "    return X_train, X_val, X_test, y_train, y_val, y_test"
   ]
  },
  {
   "cell_type": "markdown",
   "id": "fcb06860-c80e-4de4-b142-3eecd20f5661",
   "metadata": {},
   "source": [
    "### 1.1 Word2Vec\n",
    "In this section, we compare two methods for text analysis `GloVe` and `Word2Vector`. \n",
    "\n",
    "`Word2Vec` creates dense word vectors where semantically similar words are closer together. Words such as \"happy\" and \"joyful\" are mapped to vectors that are close to each other in this space, allowing the model to understand relationships between words based on their contexts. `Word2Vec`works by zeroing in on a word and looking at the local contex. It does this by using either Continuous Bag of Words (CBOW) where the model predicts the following word in a sentence base on the previous words. Or Skip-gram where it does the reverse. Starting from a given word predicting the words around it. `Word2Vec` can also understand analogies and perform operations like 'King — Man + Woman = Queen', making it a powerful tool for understanding relationships between words. Because our data set is relatively small, we are going to use Skip-gram."
   ]
  },
  {
   "cell_type": "code",
   "execution_count": 4,
   "id": "d0fa94b0-7c0e-4e26-b05e-6ddca0f3303e",
   "metadata": {
    "scrolled": true
   },
   "outputs": [],
   "source": [
    "def train_word2vec(texts, vector_size=100, window=5, min_count=2, workers=4):\n",
    "    \"\"\"\n",
    "    Trains word2vec on tokenized text\n",
    "    \"\"\"\n",
    "    X_train, tokenizer, sequences = tokenize_texts(texts)\n",
    "    tokenized_texts = [text.split() for text in texts]\n",
    "    model = Word2Vec(tokenized_texts, vector_size=vector_size, window=window, min_count=min_count, workers=workers, sg=1)\n",
    "    model.save(\"word2vec_model.model\")\n",
    "    \n",
    "    return model"
   ]
  },
  {
   "cell_type": "code",
   "execution_count": 9,
   "id": "38ddfb8e-7ba5-48bf-8709-62182f9b78bb",
   "metadata": {},
   "outputs": [],
   "source": [
    "def tokenize_texts(texts, max_words=10000, max_len=100):\n",
    "    texts = [clean_text(text) for text in texts]\n",
    "    tokenizer = Tokenizer(num_words=max_words, oov_token='<OOV>')\n",
    "    tokenizer.fit_on_texts(texts)\n",
    "    \n",
    "    vocab_size = len(tokenizer.word_index)\n",
    "    print(f\"Total unique words: {vocab_size:,}\")\n",
    "    print(f\"Keeping top {max_words:,} words\")\n",
    "    \n",
    "    sequences = tokenizer.texts_to_sequences(texts)\n",
    "    \n",
    "    seq_lengths = [len(seq) for seq in sequences]\n",
    "    print(\"\\nSequence length statistics (before padding):\")\n",
    "    print(f\"Mean length: {np.mean(seq_lengths):.1f} words\")\n",
    "    print(f\"Median length: {np.median(seq_lengths):.1f} words\")\n",
    "    print(f\"Max length: {max(seq_lengths):,} words\")\n",
    "    print(f\"Min length: {min(seq_lengths):,} words\")\n",
    "    \n",
    "    n_truncated = sum(len(seq) > max_len for seq in sequences)\n",
    "    total_samples = len(sequences)\n",
    "    if n_truncated > 0:\n",
    "        print(f\"\\nWARNING: {n_truncated:,} reviews ({(n_truncated/total_samples)*100:.1f}%) \"\n",
    "              f\"will be truncated to {max_len} words\")\n",
    "    \n",
    "    X = pad_sequences(sequences, maxlen=max_len)\n",
    "    return X, tokenizer, sequences"
   ]
  },
  {
   "cell_type": "code",
   "execution_count": 10,
   "id": "41e9397f-0204-450b-9eed-53c298b4abff",
   "metadata": {},
   "outputs": [],
   "source": [
    "def test_word2vec_model(model):\n",
    "    if all(word in model.wv for word in ['woman', 'man', 'king']):\n",
    "        result = model.wv.most_similar(positive=['woman', 'king'], negative=['man'], topn=1)[0]\n",
    "        print(f\"woman + king - man = {result[0]} (similarity: {result[1]:.4f})\")\n",
    "    else:\n",
    "        print(\"One or more words not in vocabulary. Try a larger dataset or lower min_count.\")\n",
    "    if all(word in model.wv for word in ['woman', 'man', 'actor']):\n",
    "        result = model.wv.most_similar(positive=['woman', 'actor'], negative=['man'], topn=1)[0]\n",
    "        print(f\"woman + actor - man = {result[0]} (similarity: {result[1]:.4f})\")\n",
    "    else:\n",
    "        print(\"One or more words not in vocabulary. Try a larger dataset or lower min_count.\")"
   ]
  },
  {
   "cell_type": "code",
   "execution_count": 11,
   "id": "c72755f5-c4db-4fbe-8f98-ae8d436ac0ba",
   "metadata": {},
   "outputs": [
    {
     "name": "stdout",
     "output_type": "stream",
     "text": [
      "Index(['sentiment', 'review'], dtype='object')\n",
      "Label distribution:\n",
      "Train set: (array(['Negative', 'Positive'], dtype='<U8'), array([3029, 2971]))\n",
      "Validation set: (array(['Negative', 'Positive'], dtype='<U8'), array([1028,  972]))\n",
      "Test set: (array(['Negative', 'Positive'], dtype='<U8'), array([1024,  976]))\n",
      "Total unique words: 52,579\n",
      "Keeping top 10,000 words\n",
      "\n",
      "Sequence length statistics (before padding):\n",
      "Mean length: 219.2 words\n",
      "Median length: 162.5 words\n",
      "Max length: 1,642 words\n",
      "Min length: 13 words\n",
      "\n",
      "WARNING: 5,149 reviews (85.8%) will be truncated to 100 words\n",
      "woman + king - man = sensual (similarity: 0.8382)\n",
      "woman + actor - man = actress (similarity: 0.7748)\n"
     ]
    }
   ],
   "source": [
    "def run_pipeline(csv_path):\n",
    "    df = pd.read_csv(csv_path)\n",
    "    print(df.columns);\n",
    "    \n",
    "    if 'review' not in df.columns or 'sentiment' not in df.columns:\n",
    "        raise ValueError(\"CSV file must contain 'review' and 'sentiment' columns.\")\n",
    "    \n",
    "    X = df['review'].tolist()\n",
    "    y = df['sentiment'].tolist()\n",
    "\n",
    "\n",
    "    X_train, X_val, X_test, y_train, y_val, y_test = split_data(X, y, test_size=0.2, val_size=0.2)\n",
    "    model = train_word2vec(X_train)\n",
    "    test_word2vec_model(model)\n",
    "\n",
    "csv_path = '../train_data/reviews.csv'\n",
    "run_pipeline(csv_path)"
   ]
  },
  {
   "cell_type": "markdown",
   "id": "c6d064b3-40ad-4bb2-ba9a-094718e7dd5c",
   "metadata": {},
   "source": [
    "**Remarks**:\n",
    "- It fails to map 'king' to 'queen' as expected, mapping it to 'Golden' instead. This is because `Word2Vec` understands relationships based on contextual embeddings and the corpus used (i.e., movie reviews). Therefore, the word 'Golden' or 'Britain' is mapped closer to 'king' than 'queen' based on movie titles. To capture the classic, relationship described a different corpus should be used. \n",
    "- However, it manages to map actor to actress correctly. This is because the corpus used better captures these semantics."
   ]
  },
  {
   "cell_type": "markdown",
   "id": "cb581235-eab1-4c8b-ab84-54f0b9116a79",
   "metadata": {},
   "source": [
    "### 1.2 GloVe\n",
    "`GloVe` (Global Vector for Word Representation) is somewhat different from `Word2Vec`, but the general idea remains the same: turning words into vectors to capture semantics between them. Instead of looking at the local context around a word, `Glove` constructs a a global co-occurrence matrix. This large matrix of (words x context) co-occurrence information, ie. for each word, expands beyond the local context of a word and looks at its use throughout the entire corpus. Essentially, if two words frequently co-occur (like “doctor” and “hospital”), GloVe will encode that relationship into the vectors. However, training `Glove` from scratch is computationally expensive. Therefore we will use `glove.6B.50d.txt` – 50-dimensional embeddings, trained on 6 billion tokens from Wikipedia."
   ]
  },
  {
   "cell_type": "code",
   "execution_count": 12,
   "id": "c7c1e860-cbd1-4212-9963-bbce74b44ca3",
   "metadata": {},
   "outputs": [],
   "source": [
    "def load_glove_embeddings(file_path, embedding_dim=100):\n",
    "    \"\"\"\n",
    "    Loads pre-trained GloVe embeddings from a file.\n",
    "    \"\"\"\n",
    "    embeddings_index = {}\n",
    "    with open(file_path, 'r', encoding='utf-8') as f:\n",
    "        for line in f:\n",
    "            values = line.split()\n",
    "            word = values[0]\n",
    "            coefs = np.asarray(values[1:], dtype='float32')\n",
    "            embeddings_index[word] = coefs\n",
    "    print(f\"Loaded {len(embeddings_index)} word vectors.\")\n",
    "    return embeddings_index"
   ]
  },
  {
   "cell_type": "code",
   "execution_count": 13,
   "id": "75da4b8b-f47b-4880-bf0e-2d2855524a59",
   "metadata": {},
   "outputs": [],
   "source": [
    "def get_word_vector(word, glove_embeddings):\n",
    "    return glove_embeddings.get(word)"
   ]
  },
  {
   "cell_type": "code",
   "execution_count": 29,
   "id": "10f243cd-5c4d-4b0c-91ec-52021d8ee133",
   "metadata": {},
   "outputs": [],
   "source": [
    "def find_closest_embeddings(embedding, glove_embeddings):\n",
    "    return sorted(glove_embeddings.keys(), key=lambda word: spatial.distance.euclidean(glove_embeddings[word], embedding))"
   ]
  },
  {
   "cell_type": "code",
   "execution_count": 31,
   "id": "9d0db0cd-f7cf-49a2-97dc-470347b01505",
   "metadata": {},
   "outputs": [],
   "source": [
    "def vector_analogy(positive_words, negative_words, glove_embeddings):\n",
    "    positive_vectors = []\n",
    "    negative_vectors = []\n",
    "    \n",
    "    for word in positive_words:\n",
    "        vector = get_word_vector(word, glove_embeddings)\n",
    "        if vector is not None:\n",
    "            positive_vectors.append(vector)\n",
    "        else:\n",
    "            print(f\"Warning: '{word}' not found in GloVe embeddings.\")\n",
    "    \n",
    "    for word in negative_words:\n",
    "        vector = get_word_vector(word, glove_embeddings)\n",
    "        if vector is not None:\n",
    "            negative_vectors.append(vector)\n",
    "        else:\n",
    "            print(f\"Warning: '{word}' not found in GloVe embeddings.\")\n",
    "    \n",
    "    if not positive_vectors:\n",
    "        raise ValueError(\"No valid positive words found in the GloVe embeddings.\")\n",
    "    if not negative_vectors:\n",
    "        result_vector = sum(positive_vectors)\n",
    "    else:\n",
    "        result_vector = sum(positive_vectors) - sum(negative_vectors)\n",
    "        \n",
    "    closest_words = find_closest_embeddings(result_vector, glove_embeddings)\n",
    "    return closest_words"
   ]
  },
  {
   "cell_type": "code",
   "execution_count": 39,
   "id": "beb2ffc3-f9a9-4f43-85a1-b1ccf7e718d5",
   "metadata": {},
   "outputs": [
    {
     "name": "stdout",
     "output_type": "stream",
     "text": [
      "Loaded 400000 word vectors.\n",
      "Analogy result: ['king', 'woman'] - ['man'] -> Closest words: ['king', 'queen', 'prince', 'elizabeth', 'daughter']\n",
      "Analogy result: ['great', 'horrible'] - ['nice'] -> Closest words: ['tragedies', 'tragedy', 'terrible', 'disasters', 'tragic']\n"
     ]
    }
   ],
   "source": [
    "glove_file_path = '../glove.6B/glove.6B.50d.txt'\n",
    "embedding_dim = 100\n",
    "glove_embeddings = load_glove_embeddings(glove_file_path, embedding_dim)\n",
    "\n",
    "positive_words = ['king', 'woman']\n",
    "negative_words = ['man']\n",
    "\n",
    "try:\n",
    "    closest_words = vector_analogy(positive_words, negative_words, glove_embeddings)\n",
    "    print(f\"Analogy result: {positive_words} - {negative_words} -> Closest words: {closest_words[:5]}\")\n",
    "except ValueError as e:\n",
    "    print(str(e))\n",
    "\n",
    "positive_words = ['great', 'horrible']\n",
    "negative_words = ['nice']\n",
    "\n",
    "try:\n",
    "    closest_words = vector_analogy(positive_words, negative_words, glove_embeddings)\n",
    "    print(f\"Analogy result: {positive_words} - {negative_words} -> Closest words: {closest_words[:5]}\")\n",
    "except ValueError as e:\n",
    "    print(str(e))"
   ]
  },
  {
   "cell_type": "markdown",
   "id": "e341e5b0-9319-4c8f-9614-bc06acbfe3c0",
   "metadata": {},
   "source": [
    "**Remarks:**\n",
    "- `GloVe` embeddings are trained on a large text corpus and capture semantic relationships based on context. `GloVe` understands the relationship between words like \"king\" and \"queen\", \"woman\" and \"man\", and \"great\" and \"horrible\", but some of the results can be influenced by the diversity of contexts it has seen. In this case, we see this for 'tragesdies' and 'disasters', which is probably because the embeddings are trained on a Wikipedia corpus."
   ]
  },
  {
   "cell_type": "markdown",
   "id": "33816c59-941b-4df6-83ef-72b8e58e9d33",
   "metadata": {},
   "source": [
    "### Data Processing Comparison\n",
    "To determine which approach is beter for our sentiment analysis model, we will use a simple model to train it on both datasets and briefly comapre performance. "
   ]
  },
  {
   "cell_type": "code",
   "execution_count": 16,
   "id": "997d5313-b920-469a-9732-ee29933ae01d",
   "metadata": {},
   "outputs": [
    {
     "ename": "FileNotFoundError",
     "evalue": "[Errno 2] No such file or directory: 'glove.6B.100d.txt'",
     "output_type": "error",
     "traceback": [
      "\u001b[0;31m---------------------------------------------------------------------------\u001b[0m",
      "\u001b[0;31mFileNotFoundError\u001b[0m                         Traceback (most recent call last)",
      "Cell \u001b[0;32mIn[16], line 52\u001b[0m\n\u001b[1;32m     49\u001b[0m GLOVE_PATH \u001b[38;5;241m=\u001b[39m \u001b[38;5;124m\"\u001b[39m\u001b[38;5;124mglove.6B.100d.txt\u001b[39m\u001b[38;5;124m\"\u001b[39m\n\u001b[1;32m     51\u001b[0m \u001b[38;5;66;03m# Run comparison\u001b[39;00m\n\u001b[0;32m---> 52\u001b[0m results \u001b[38;5;241m=\u001b[39m \u001b[43mcompare_embeddings\u001b[49m\u001b[43m(\u001b[49m\u001b[43mCSV_FILE\u001b[49m\u001b[43m,\u001b[49m\u001b[43m \u001b[49m\u001b[43mGLOVE_PATH\u001b[49m\u001b[43m)\u001b[49m\n",
      "Cell \u001b[0;32mIn[16], line 7\u001b[0m, in \u001b[0;36mcompare_embeddings\u001b[0;34m(csv_file, glove_path)\u001b[0m\n\u001b[1;32m      5\u001b[0m \u001b[38;5;66;03m# Process with both embeddings\u001b[39;00m\n\u001b[1;32m      6\u001b[0m X_w2v, y_w2v, w2v_matrix, _ \u001b[38;5;241m=\u001b[39m load_and_preprocess_word2vec(csv_file)\n\u001b[0;32m----> 7\u001b[0m X_glove, y_glove, glove_matrix, _ \u001b[38;5;241m=\u001b[39m \u001b[43mload_and_preprocess_glove\u001b[49m\u001b[43m(\u001b[49m\u001b[43mcsv_file\u001b[49m\u001b[43m,\u001b[49m\u001b[43m \u001b[49m\u001b[43mglove_path\u001b[49m\u001b[43m)\u001b[49m\n\u001b[1;32m      9\u001b[0m \u001b[38;5;66;03m# Simple LSTM model template\u001b[39;00m\n\u001b[1;32m     10\u001b[0m \u001b[38;5;28;01mdef\u001b[39;00m\u001b[38;5;250m \u001b[39m\u001b[38;5;21mcreate_model\u001b[39m(embedding_matrix):\n",
      "Cell \u001b[0;32mIn[14], line 17\u001b[0m, in \u001b[0;36mload_and_preprocess_glove\u001b[0;34m(csv_file, glove_path, max_words, max_len)\u001b[0m\n\u001b[1;32m     15\u001b[0m \u001b[38;5;66;03m# Load GloVe embeddings\u001b[39;00m\n\u001b[1;32m     16\u001b[0m embeddings_index \u001b[38;5;241m=\u001b[39m {}\n\u001b[0;32m---> 17\u001b[0m \u001b[38;5;28;01mwith\u001b[39;00m \u001b[38;5;28;43mopen\u001b[39;49m\u001b[43m(\u001b[49m\u001b[43mglove_path\u001b[49m\u001b[43m,\u001b[49m\u001b[43m \u001b[49m\u001b[43mencoding\u001b[49m\u001b[38;5;241;43m=\u001b[39;49m\u001b[38;5;124;43m'\u001b[39;49m\u001b[38;5;124;43mutf-8\u001b[39;49m\u001b[38;5;124;43m'\u001b[39;49m\u001b[43m)\u001b[49m \u001b[38;5;28;01mas\u001b[39;00m f:\n\u001b[1;32m     18\u001b[0m     \u001b[38;5;28;01mfor\u001b[39;00m line \u001b[38;5;129;01min\u001b[39;00m f:\n\u001b[1;32m     19\u001b[0m         values \u001b[38;5;241m=\u001b[39m line\u001b[38;5;241m.\u001b[39msplit()\n",
      "File \u001b[0;32m~/Desktop/Projects/Sentiment_Analysis_Classifier/myenv/lib/python3.10/site-packages/IPython/core/interactiveshell.py:324\u001b[0m, in \u001b[0;36m_modified_open\u001b[0;34m(file, *args, **kwargs)\u001b[0m\n\u001b[1;32m    317\u001b[0m \u001b[38;5;28;01mif\u001b[39;00m file \u001b[38;5;129;01min\u001b[39;00m {\u001b[38;5;241m0\u001b[39m, \u001b[38;5;241m1\u001b[39m, \u001b[38;5;241m2\u001b[39m}:\n\u001b[1;32m    318\u001b[0m     \u001b[38;5;28;01mraise\u001b[39;00m \u001b[38;5;167;01mValueError\u001b[39;00m(\n\u001b[1;32m    319\u001b[0m         \u001b[38;5;124mf\u001b[39m\u001b[38;5;124m\"\u001b[39m\u001b[38;5;124mIPython won\u001b[39m\u001b[38;5;124m'\u001b[39m\u001b[38;5;124mt let you open fd=\u001b[39m\u001b[38;5;132;01m{\u001b[39;00mfile\u001b[38;5;132;01m}\u001b[39;00m\u001b[38;5;124m by default \u001b[39m\u001b[38;5;124m\"\u001b[39m\n\u001b[1;32m    320\u001b[0m         \u001b[38;5;124m\"\u001b[39m\u001b[38;5;124mas it is likely to crash IPython. If you know what you are doing, \u001b[39m\u001b[38;5;124m\"\u001b[39m\n\u001b[1;32m    321\u001b[0m         \u001b[38;5;124m\"\u001b[39m\u001b[38;5;124myou can use builtins\u001b[39m\u001b[38;5;124m'\u001b[39m\u001b[38;5;124m open.\u001b[39m\u001b[38;5;124m\"\u001b[39m\n\u001b[1;32m    322\u001b[0m     )\n\u001b[0;32m--> 324\u001b[0m \u001b[38;5;28;01mreturn\u001b[39;00m \u001b[43mio_open\u001b[49m\u001b[43m(\u001b[49m\u001b[43mfile\u001b[49m\u001b[43m,\u001b[49m\u001b[43m \u001b[49m\u001b[38;5;241;43m*\u001b[39;49m\u001b[43margs\u001b[49m\u001b[43m,\u001b[49m\u001b[43m \u001b[49m\u001b[38;5;241;43m*\u001b[39;49m\u001b[38;5;241;43m*\u001b[39;49m\u001b[43mkwargs\u001b[49m\u001b[43m)\u001b[49m\n",
      "\u001b[0;31mFileNotFoundError\u001b[0m: [Errno 2] No such file or directory: 'glove.6B.100d.txt'"
     ]
    }
   ],
   "source": [
    "def compare_embeddings(csv_file, glove_path):\n",
    "    \"\"\"\n",
    "    Compare Word2Vec and GloVe embeddings performance.\n",
    "    \"\"\"\n",
    "    # Process with both embeddings\n",
    "    X_w2v, y_w2v, w2v_matrix, _ = load_and_preprocess_word2vec(csv_file)\n",
    "    X_glove, y_glove, glove_matrix, _ = load_and_preprocess_glove(csv_file, glove_path)\n",
    "    \n",
    "    # Simple LSTM model template\n",
    "    def create_model(embedding_matrix):\n",
    "        model = Sequential([\n",
    "            Embedding(10000, 100, weights=[embedding_matrix], trainable=False),\n",
    "            LSTM(64),\n",
    "            Dense(1, activation='sigmoid')\n",
    "        ])\n",
    "        model.compile(optimizer='adam', loss='binary_crossentropy', metrics=['accuracy'])\n",
    "        return model\n",
    "    \n",
    "    # Train and evaluate both models\n",
    "    print(\"\\nTraining Word2Vec model:\")\n",
    "    w2v_model = create_model(w2v_matrix)\n",
    "    w2v_history = w2v_model.fit(X_w2v, y_w2v, epochs=3, batch_size=32, validation_split=0.2)\n",
    "    \n",
    "    print(\"\\nTraining GloVe model:\")\n",
    "    glove_model = create_model(glove_matrix)\n",
    "    glove_history = glove_model.fit(X_glove, y_glove, epochs=3, batch_size=32, validation_split=0.2)\n",
    "    \n",
    "    # Compare results\n",
    "    results = {\n",
    "        'word2vec': {\n",
    "            'val_accuracy': w2v_history.history['val_accuracy'][-1],\n",
    "            'train_accuracy': w2v_history.history['accuracy'][-1]\n",
    "        },\n",
    "        'glove': {\n",
    "            'val_accuracy': glove_history.history['val_accuracy'][-1],\n",
    "            'train_accuracy': glove_history.history['accuracy'][-1]\n",
    "        }\n",
    "    }\n",
    "    \n",
    "    print(\"\\nFinal Results:\")\n",
    "    print(f\"Word2Vec - Train: {results['word2vec']['train_accuracy']:.4f}, \"\n",
    "          f\"Val: {results['word2vec']['val_accuracy']:.4f}\")\n",
    "    print(f\"GloVe - Train: {results['glove']['train_accuracy']:.4f}, \"\n",
    "          f\"Val: {results['glove']['val_accuracy']:.4f}\")\n",
    "    \n",
    "    return results\n",
    "\n",
    "CSV_FILE = \"../train_data/reviews.csv\"\n",
    "GLOVE_PATH = \"glove.6B.100d.txt\"\n",
    "\n",
    "# Run comparison\n",
    "results = compare_embeddings(CSV_FILE, GLOVE_PATH)"
   ]
  },
  {
   "cell_type": "markdown",
   "id": "722633de-b497-4862-a992-098ddf34756e",
   "metadata": {},
   "source": [
    "### 1.2 Creating the Model\n",
    "One of the main concerns with creating the neural network model was to avoid overfitting: good performance on the trainning set and poor performance on unseen data. This is the purpose of the cross-validation set, used to decide the training paramaters of the model. Two approaches are explored to counteract overfitting:\n",
    "- Dropout layer to turn off random neuron units\n",
    "- L2 regularization to adjust the weights within the neural layers"
   ]
  },
  {
   "cell_type": "code",
   "execution_count": 99,
   "id": "031e51dc-f5ac-4587-861b-f865632fc5ed",
   "metadata": {},
   "outputs": [],
   "source": [
    "def create_model_drop(max_words, max_len, embedding_dim=100):\n",
    "    \"\"\"\n",
    "    Create and compile the neural network model\n",
    "    \"\"\"\n",
    "    # Create Adam optimizer with recommended parameters\n",
    "    adam_optimizer = tf.keras.optimizers.Adam(\n",
    "        learning_rate=3e-5,\n",
    "        beta_1=0.9,\n",
    "        beta_2=0.999,\n",
    "        epsilon=1e-7,\n",
    "        amsgrad=False,\n",
    "        clipvalue=1.0\n",
    "    )\n",
    "\n",
    "    model = Sequential([\n",
    "        Embedding(input_dim = max_words, output_dim = embedding_dim, input_length=max_len),\n",
    "        LSTM(64), \n",
    "        Dense(32, activation='relu'),\n",
    "        Dropout(0.5),\n",
    "        Dense(1, activation='sigmoid')\n",
    "    ])\n",
    "    \n",
    "    model.compile(\n",
    "        optimizer=adam_optimizer,\n",
    "        loss='binary_crossentropy',\n",
    "        metrics=['accuracy']\n",
    "    )\n",
    "    \n",
    "    return model\n",
    "\n",
    "model_drop = create_model_drop(MAX_WORDS, MAX_LEN, EMBEDDING_DIM)"
   ]
  },
  {
   "cell_type": "code",
   "execution_count": 51,
   "id": "65043595-0097-4a0b-8fe9-e9b2f0959235",
   "metadata": {},
   "outputs": [],
   "source": [
    "def create_model_reg(max_words, max_len, embedding_dim=100):\n",
    "    \"\"\"\n",
    "    Create and compile the neural network model using L1 and L2 regularization\n",
    "    instead of dropout for controlling overfitting\n",
    "    \"\"\"\n",
    "    # Create Adam optimizer with recommended parameters\n",
    "    adam_optimizer = tf.keras.optimizers.Adam(\n",
    "        learning_rate=5e-5,\n",
    "        beta_1=0.9,\n",
    "        beta_2=0.999,\n",
    "        epsilon=1e-7,\n",
    "        amsgrad=False,\n",
    "        clipvalue=1.0\n",
    "    )\n",
    "\n",
    "    # Define regularizers\n",
    "    l1_l2_reg = tf.keras.regularizers.L1L2(l1=0.01, l2=0.01)\n",
    "    \n",
    "    model = Sequential([\n",
    "        Embedding(input_dim=max_words, output_dim=embedding_dim, input_length=max_len, embeddings_regularizer=l1_l2_reg),\n",
    "        LSTM(64, kernel_regularizer=l1_l2_reg, recurrent_regularizer=l1_l2_reg),\n",
    "        Dense(32, activation='relu', kernel_regularizer=l1_l2_reg),\n",
    "        Dense(1, activation='sigmoid', kernel_regularizer=l1_l2_reg)\n",
    "    ])\n",
    "    \n",
    "    model.compile(\n",
    "        optimizer=adam_optimizer,\n",
    "        loss='binary_crossentropy',\n",
    "        metrics=['accuracy']\n",
    "    )\n",
    "    \n",
    "    return model\n",
    "\n",
    "model_reg = create_model_reg(MAX_WORDS, MAX_LEN, EMBEDDING_DIM)"
   ]
  },
  {
   "cell_type": "markdown",
   "id": "444cbd90-cc84-4fb5-9609-7831ad8fab8a",
   "metadata": {},
   "source": [
    "### 1.3 Training the Models\n",
    "We define a function to train and evaluate our model. To further avoid overfitting, we use early stopping when training our model. This approach checks the cross validation loss and stops the training process when this metric stops improving. By doing so, we avoid our model picking up noise from the training set and help it better generalize on unseen data. "
   ]
  },
  {
   "cell_type": "code",
   "execution_count": 52,
   "id": "773c4f5a-b9fa-40b8-8357-645a75ec2c2b",
   "metadata": {},
   "outputs": [],
   "source": [
    "def train_evaluate_model(model, X_train, X_val, X_test, y_train, y_val, y_test,):\n",
    "    \"\"\"\n",
    "    Train the model and evaluate its performance\n",
    "    \"\"\"\n",
    "    \n",
    "    # Early stopping to prevent overfitting\n",
    "    early_stopping = EarlyStopping(\n",
    "        monitor='val_loss',\n",
    "        patience=3,\n",
    "        restore_best_weights=True\n",
    "    )\n",
    "    \n",
    "    # Train the model\n",
    "    history = model.fit(\n",
    "        X_train, y_train,\n",
    "        epochs=10,\n",
    "        batch_size=32,\n",
    "        validation_data=(X_val, y_val),\n",
    "        callbacks= early_stopping\n",
    "    )\n",
    "    \n",
    "    # Evaluate on test set\n",
    "    final_metrics = [model, X_train, y_train, X_val, y_val, X_test, y_test]\n",
    "    \n",
    "    return history, final_metrics"
   ]
  },
  {
   "cell_type": "code",
   "execution_count": 100,
   "id": "d38f73d3-fd22-4572-bb6c-81e1e2f556d3",
   "metadata": {},
   "outputs": [
    {
     "name": "stdout",
     "output_type": "stream",
     "text": [
      "\n",
      "Training dropout model...\n",
      "Epoch 1/10\n",
      "\u001b[1m188/188\u001b[0m \u001b[32m━━━━━━━━━━━━━━━━━━━━\u001b[0m\u001b[37m\u001b[0m \u001b[1m10s\u001b[0m 47ms/step - accuracy: 0.5061 - loss: 0.6932 - val_accuracy: 0.5350 - val_loss: 0.6927\n",
      "Epoch 2/10\n",
      "\u001b[1m188/188\u001b[0m \u001b[32m━━━━━━━━━━━━━━━━━━━━\u001b[0m\u001b[37m\u001b[0m \u001b[1m9s\u001b[0m 47ms/step - accuracy: 0.5603 - loss: 0.6920 - val_accuracy: 0.5750 - val_loss: 0.6916\n",
      "Epoch 3/10\n",
      "\u001b[1m188/188\u001b[0m \u001b[32m━━━━━━━━━━━━━━━━━━━━\u001b[0m\u001b[37m\u001b[0m \u001b[1m9s\u001b[0m 47ms/step - accuracy: 0.6153 - loss: 0.6899 - val_accuracy: 0.6295 - val_loss: 0.6880\n",
      "Epoch 4/10\n",
      "\u001b[1m188/188\u001b[0m \u001b[32m━━━━━━━━━━━━━━━━━━━━\u001b[0m\u001b[37m\u001b[0m \u001b[1m9s\u001b[0m 47ms/step - accuracy: 0.6795 - loss: 0.6763 - val_accuracy: 0.7560 - val_loss: 0.5977\n",
      "Epoch 5/10\n",
      "\u001b[1m188/188\u001b[0m \u001b[32m━━━━━━━━━━━━━━━━━━━━\u001b[0m\u001b[37m\u001b[0m \u001b[1m9s\u001b[0m 47ms/step - accuracy: 0.7655 - loss: 0.5738 - val_accuracy: 0.7780 - val_loss: 0.5236\n",
      "Epoch 6/10\n",
      "\u001b[1m188/188\u001b[0m \u001b[32m━━━━━━━━━━━━━━━━━━━━\u001b[0m\u001b[37m\u001b[0m \u001b[1m9s\u001b[0m 47ms/step - accuracy: 0.8128 - loss: 0.4861 - val_accuracy: 0.8155 - val_loss: 0.4646\n",
      "Epoch 7/10\n",
      "\u001b[1m188/188\u001b[0m \u001b[32m━━━━━━━━━━━━━━━━━━━━\u001b[0m\u001b[37m\u001b[0m \u001b[1m9s\u001b[0m 48ms/step - accuracy: 0.8570 - loss: 0.4128 - val_accuracy: 0.8065 - val_loss: 0.4366\n",
      "Epoch 8/10\n",
      "\u001b[1m188/188\u001b[0m \u001b[32m━━━━━━━━━━━━━━━━━━━━\u001b[0m\u001b[37m\u001b[0m \u001b[1m9s\u001b[0m 48ms/step - accuracy: 0.8901 - loss: 0.3397 - val_accuracy: 0.8200 - val_loss: 0.4220\n",
      "Epoch 9/10\n",
      "\u001b[1m188/188\u001b[0m \u001b[32m━━━━━━━━━━━━━━━━━━━━\u001b[0m\u001b[37m\u001b[0m \u001b[1m9s\u001b[0m 47ms/step - accuracy: 0.9067 - loss: 0.2938 - val_accuracy: 0.8280 - val_loss: 0.4313\n",
      "Epoch 10/10\n",
      "\u001b[1m188/188\u001b[0m \u001b[32m━━━━━━━━━━━━━━━━━━━━\u001b[0m\u001b[37m\u001b[0m \u001b[1m9s\u001b[0m 48ms/step - accuracy: 0.9266 - loss: 0.2631 - val_accuracy: 0.8195 - val_loss: 0.4645\n"
     ]
    },
    {
     "name": "stderr",
     "output_type": "stream",
     "text": [
      "WARNING:absl:You are saving your model as an HDF5 file via `model.save()` or `keras.saving.save_model(model)`. This file format is considered legacy. We recommend using instead the native Keras format, e.g. `model.save('my_model.keras')` or `keras.saving.save_model(model, 'my_model.keras')`. \n"
     ]
    }
   ],
   "source": [
    "# Get timestamp for unique model names\n",
    "timestamp = datetime.now().strftime(\"%Y%m%d_%H%M%S\")\n",
    "\n",
    "# Train and save dropout model\n",
    "print(\"\\nTraining dropout model...\")\n",
    "history_drop, final_metrics_drop = train_evaluate_model(\n",
    "    model_drop, X_train, X_val, X_test, y_train, y_val, y_test\n",
    ")\n",
    "model_drop.save(f'../models/model_drop_{timestamp}.h5')"
   ]
  },
  {
   "cell_type": "code",
   "execution_count": null,
   "id": "b7616af2-8fac-4094-bed3-a92b7e7646b9",
   "metadata": {},
   "outputs": [],
   "source": [
    "# Train and save regularized model\n",
    "print(\"\\nTraining regularized model...\")\n",
    "history_reg, final_metrics_reg = train_evaluate_model(\n",
    "    model_reg, X_train, X_val, X_test, y_train, y_val, y_test\n",
    ")\n",
    "model_reg.save(f'../models/model_reg_{timestamp}.h5')"
   ]
  },
  {
   "cell_type": "markdown",
   "id": "494b3325-10d6-47be-b98b-c03fbf834258",
   "metadata": {},
   "source": [
    "### 1.4 Performance Analysis for Dropout Model\n",
    "In this section we write a function that analyzes the performance of the two neural network models and draws comparisons between them. The aim is to try to identify the most useful techniques for preventing overfitting and improving performance."
   ]
  },
  {
   "cell_type": "code",
   "execution_count": 58,
   "id": "59d932ac-6f3a-4db3-9058-9c10c5da5537",
   "metadata": {},
   "outputs": [],
   "source": [
    "def evaluate_final_model(final_metrics):\n",
    "    \"\"\"\n",
    "    Evaluate model on all datasets and return detailed metrics\n",
    "    \n",
    "    Parameters:\n",
    "        model: Keras model\n",
    "        X_train, X_val, X_test: Input features for each dataset\n",
    "        y_train, y_val, y_test: Labels for each dataset\n",
    "    \n",
    "    Returns:\n",
    "        Dictionary containing evaluation metrics\n",
    "    \"\"\"\n",
    "    model, X_train, y_train, X_val, y_val, X_test, y_test = final_metrics\n",
    "    metrics = {}\n",
    "    \n",
    "    # Compute predictions for all sets\n",
    "    y_train_pred_prob = model.predict(X_train, verbose=0)\n",
    "    y_val_pred_prob = model.predict(X_val, verbose=0)\n",
    "    y_test_pred_prob = model.predict(X_test, verbose=0)\n",
    "\n",
    "    # Compute ROC curve for validation set (used to determine the best threshold)\n",
    "    fpr, tpr, thresholds = roc_curve(y_val, y_val_pred_prob)\n",
    "    roc_auc = auc(fpr, tpr)\n",
    "    \n",
    "    # Find the best threshold using Youden’s J statistic\n",
    "    J_scores = tpr - fpr\n",
    "    best_index = np.argmax(J_scores)\n",
    "    best_threshold = thresholds[best_index]\n",
    "\n",
    "    print(f\"\\nOptimal Threshold (Youden's J): {best_threshold:.4f}\")\n",
    "    \n",
    "    # Convert probabilities to binary predictions\n",
    "    y_train_pred = (y_train_pred_prob > 0.5).astype(int)\n",
    "    y_val_pred = (y_val_pred_prob > 0.5).astype(int)\n",
    "    y_test_pred = (y_test_pred_prob > 0.5).astype(int)\n",
    "    \n",
    "    # Evaluate metrics for each dataset\n",
    "    datasets = [\n",
    "        ('train', X_train, y_train, y_train_pred, y_train_pred_prob),\n",
    "        ('val', X_val, y_val, y_val_pred, y_val_pred_prob),\n",
    "        ('test', X_test, y_test, y_test_pred, y_test_pred_prob)\n",
    "    ]\n",
    "    \n",
    "    for name, X, y_true, y_pred, y_pred_prob in datasets:\n",
    "        # Basic metrics\n",
    "        loss, accuracy = model.evaluate(X, y_true, verbose=0)\n",
    "        error = 1 - accuracy\n",
    "        \n",
    "        # Confusion matrix\n",
    "        cm = confusion_matrix(y_true, y_pred)\n",
    "        \n",
    "        # ROC curve\n",
    "        fpr, tpr, _ = roc_curve(y_true, y_pred_prob)\n",
    "        roc_auc = auc(fpr, tpr)\n",
    "        \n",
    "        # Store metrics\n",
    "        metrics[f'{name}_error'] = error\n",
    "        metrics[f'{name}_loss'] = loss\n",
    "        metrics[f'{name}_accuracy'] = accuracy\n",
    "        metrics[f'{name}_confusion_matrix'] = cm\n",
    "        metrics[f'{name}_auc'] = roc_auc\n",
    "        \n",
    "        # Print detailed results\n",
    "        print(f\"\\n{name.upper()} SET RESULTS:\")\n",
    "        print(f\"Error: {error:.4f}\")\n",
    "        print(f\"Loss: {loss:.4f}\")\n",
    "        print(f\"Accuracy: {accuracy:.4f}\")\n",
    "        print(f\"AUC-ROC: {roc_auc:.4f}\")\n",
    "        print(f\"Confusion Matrix:\\n{cm}\")\n",
    "        print(\"\\nClassification Report:\")\n",
    "        print(classification_report(y_true, y_pred))\n",
    "    \n",
    "    # Plot ROC curves\n",
    "    plt.figure(figsize=(10, 8))\n",
    "    for name, _, y_true, _, y_pred_prob in datasets:\n",
    "        fpr, tpr, _ = roc_curve(y_true, y_pred_prob)\n",
    "        roc_auc = auc(fpr, tpr)\n",
    "        plt.plot(fpr, tpr, label=f'{name.upper()} (AUC = {roc_auc:.2f})')\n",
    "    \n",
    "    plt.plot([0, 1], [0, 1], 'k--')\n",
    "    plt.xlim([0.0, 1.0])\n",
    "    plt.ylim([0.0, 1.05])\n",
    "    plt.xlabel('False Positive Rate')\n",
    "    plt.ylabel('True Positive Rate')\n",
    "    plt.title('Receiver Operating Characteristic (ROC) Curves')\n",
    "    plt.legend(loc=\"lower right\")\n",
    "    plt.show()"
   ]
  },
  {
   "cell_type": "code",
   "execution_count": 61,
   "id": "af29bbea-939e-4060-95a5-c90d9b6f06e3",
   "metadata": {},
   "outputs": [
    {
     "name": "stdout",
     "output_type": "stream",
     "text": [
      "\n",
      "Optimal Threshold (Youden's J): 0.4960\n",
      "\n",
      "TRAIN SET RESULTS:\n",
      "Error: 0.0680\n",
      "Loss: 0.2487\n",
      "Accuracy: 0.9320\n",
      "AUC-ROC: 0.9701\n",
      "Confusion Matrix:\n",
      "[[2816  213]\n",
      " [ 195 2776]]\n",
      "\n",
      "Classification Report:\n",
      "              precision    recall  f1-score   support\n",
      "\n",
      "           0       0.94      0.93      0.93      3029\n",
      "           1       0.93      0.93      0.93      2971\n",
      "\n",
      "    accuracy                           0.93      6000\n",
      "   macro avg       0.93      0.93      0.93      6000\n",
      "weighted avg       0.93      0.93      0.93      6000\n",
      "\n",
      "\n",
      "VAL SET RESULTS:\n",
      "Error: 0.1445\n",
      "Loss: 0.3726\n",
      "Accuracy: 0.8555\n",
      "AUC-ROC: 0.9168\n",
      "Confusion Matrix:\n",
      "[[879 149]\n",
      " [140 832]]\n",
      "\n",
      "Classification Report:\n",
      "              precision    recall  f1-score   support\n",
      "\n",
      "           0       0.86      0.86      0.86      1028\n",
      "           1       0.85      0.86      0.85       972\n",
      "\n",
      "    accuracy                           0.86      2000\n",
      "   macro avg       0.86      0.86      0.86      2000\n",
      "weighted avg       0.86      0.86      0.86      2000\n",
      "\n",
      "\n",
      "TEST SET RESULTS:\n",
      "Error: 0.1645\n",
      "Loss: 0.4001\n",
      "Accuracy: 0.8355\n",
      "AUC-ROC: 0.9014\n",
      "Confusion Matrix:\n",
      "[[865 159]\n",
      " [170 806]]\n",
      "\n",
      "Classification Report:\n",
      "              precision    recall  f1-score   support\n",
      "\n",
      "           0       0.84      0.84      0.84      1024\n",
      "           1       0.84      0.83      0.83       976\n",
      "\n",
      "    accuracy                           0.84      2000\n",
      "   macro avg       0.84      0.84      0.84      2000\n",
      "weighted avg       0.84      0.84      0.84      2000\n",
      "\n"
     ]
    },
    {
     "data": {
      "image/png": "[encoded data removed]",
      "text/plain": [
       "<Figure size 1000x800 with 1 Axes>"
      ]
     },
     "metadata": {},
     "output_type": "display_data"
    }
   ],
   "source": [
    "evaluate_final_model(final_metrics_drop)"
   ]
  },
  {
   "cell_type": "markdown",
   "id": "e6605c95-a800-47ae-85ac-f4a222036fc2",
   "metadata": {},
   "source": [
    "The peroformance analysis for the dropout model suggests a considerable degree of overfitting. The model performs very well on the training set but shows a drop in accuracy on validation and test sets. Accuracy decreases from 93.2% (train) to 85.6% (val) and 83.6% (test). The model learns patterns in training but struggles with unseen data. AUC-ROC remains good but drops, meaning the model has difficulty separating classes in test data. The confusion matrix shows more false positives and false negatives in test set. \n",
    "\n",
    "From the ROC curve, the optimal threshold selected by Youden’s J is 0.4960, meaning that probabilities ≥ 0.4960 are classified as 1. The ROC curve shows the model performs generaly well (much better than a coin-flip), yet a significant difference remains between the test and validation/test curves.\n",
    "\n",
    "### 1.5 Improvements fro Dropout Model\n",
    "To improve this, we will investigate the following strategies for our Dropout model:\n",
    "* Increase dropout rate\n",
    "* Reduce model complexity"
   ]
  },
  {
   "cell_type": "code",
   "execution_count": 97,
   "id": "ddd7043a-16df-48d1-8fdb-6d748614b5d5",
   "metadata": {},
   "outputs": [
    {
     "name": "stderr",
     "output_type": "stream",
     "text": [
      "/Users/vlad.filip/Desktop/Projects/Sentiment_Analysis_Classifier/myenv/lib/python3.10/site-packages/keras/src/layers/core/embedding.py:90: UserWarning: Argument `input_length` is deprecated. Just remove it.\n",
      "  warnings.warn(\n"
     ]
    }
   ],
   "source": [
    "from tensorflow.keras.layers import GRU\n",
    "\n",
    "def create_model_drop_improv(max_words, max_len, embedding_dim=100):\n",
    "    \"\"\"\n",
    "    Create and compile the neural network model\n",
    "    \"\"\"\n",
    "    # Create Adam optimizer with recommended parameters\n",
    "    adam_optimizer = tf.keras.optimizers.Adam(\n",
    "        learning_rate=5e-5,\n",
    "        beta_1=0.9,\n",
    "        beta_2=0.999,\n",
    "        epsilon=1e-7,\n",
    "        amsgrad=False,\n",
    "        clipvalue=1.0\n",
    "    )\n",
    "\n",
    "    model = Sequential([\n",
    "        Embedding(input_dim = max_words, output_dim = embedding_dim, input_length=max_len),\n",
    "        LSTM(16),\n",
    "        Dense(8, activation='relu'),\n",
    "        Dropout(0.6),\n",
    "        Dense(1, activation='sigmoid')\n",
    "    ])\n",
    "    \n",
    "    model.compile(\n",
    "        optimizer=adam_optimizer,\n",
    "        loss='binary_crossentropy',\n",
    "        metrics=['accuracy']\n",
    "    )\n",
    "    \n",
    "    return model\n",
    "\n",
    "model_drop_improv = create_model_drop_improv(MAX_WORDS, MAX_LEN, EMBEDDING_DIM)"
   ]
  },
  {
   "cell_type": "code",
   "execution_count": 98,
   "id": "c5caf675-f103-43f5-8e52-189e518a6592",
   "metadata": {},
   "outputs": [
    {
     "name": "stdout",
     "output_type": "stream",
     "text": [
      "\n",
      "Re-training dropout model...\n",
      "Epoch 1/10\n",
      "\u001b[1m188/188\u001b[0m \u001b[32m━━━━━━━━━━━━━━━━━━━━\u001b[0m\u001b[37m\u001b[0m \u001b[1m5s\u001b[0m 20ms/step - accuracy: 0.4913 - loss: 0.6932 - val_accuracy: 0.5300 - val_loss: 0.6927\n",
      "Epoch 2/10\n",
      "\u001b[1m188/188\u001b[0m \u001b[32m━━━━━━━━━━━━━━━━━━━━\u001b[0m\u001b[37m\u001b[0m \u001b[1m4s\u001b[0m 21ms/step - accuracy: 0.5307 - loss: 0.6922 - val_accuracy: 0.5380 - val_loss: 0.6919\n",
      "Epoch 3/10\n",
      "\u001b[1m188/188\u001b[0m \u001b[32m━━━━━━━━━━━━━━━━━━━━\u001b[0m\u001b[37m\u001b[0m \u001b[1m4s\u001b[0m 21ms/step - accuracy: 0.5664 - loss: 0.6902 - val_accuracy: 0.5460 - val_loss: 0.6905\n",
      "Epoch 4/10\n",
      "\u001b[1m188/188\u001b[0m \u001b[32m━━━━━━━━━━━━━━━━━━━━\u001b[0m\u001b[37m\u001b[0m \u001b[1m4s\u001b[0m 21ms/step - accuracy: 0.5634 - loss: 0.6881 - val_accuracy: 0.5510 - val_loss: 0.6878\n",
      "Epoch 5/10\n",
      "\u001b[1m188/188\u001b[0m \u001b[32m━━━━━━━━━━━━━━━━━━━━\u001b[0m\u001b[37m\u001b[0m \u001b[1m4s\u001b[0m 21ms/step - accuracy: 0.5811 - loss: 0.6828 - val_accuracy: 0.5770 - val_loss: 0.6818\n",
      "Epoch 6/10\n",
      "\u001b[1m188/188\u001b[0m \u001b[32m━━━━━━━━━━━━━━━━━━━━\u001b[0m\u001b[37m\u001b[0m \u001b[1m4s\u001b[0m 21ms/step - accuracy: 0.6035 - loss: 0.6687 - val_accuracy: 0.7175 - val_loss: 0.6584\n",
      "Epoch 7/10\n",
      "\u001b[1m188/188\u001b[0m \u001b[32m━━━━━━━━━━━━━━━━━━━━\u001b[0m\u001b[37m\u001b[0m \u001b[1m4s\u001b[0m 21ms/step - accuracy: 0.6998 - loss: 0.6214 - val_accuracy: 0.7430 - val_loss: 0.5708\n",
      "Epoch 8/10\n",
      "\u001b[1m188/188\u001b[0m \u001b[32m━━━━━━━━━━━━━━━━━━━━\u001b[0m\u001b[37m\u001b[0m \u001b[1m4s\u001b[0m 21ms/step - accuracy: 0.7738 - loss: 0.5556 - val_accuracy: 0.7855 - val_loss: 0.5474\n",
      "Epoch 9/10\n",
      "\u001b[1m188/188\u001b[0m \u001b[32m━━━━━━━━━━━━━━━━━━━━\u001b[0m\u001b[37m\u001b[0m \u001b[1m4s\u001b[0m 21ms/step - accuracy: 0.8309 - loss: 0.5082 - val_accuracy: 0.8100 - val_loss: 0.5268\n",
      "Epoch 10/10\n",
      "\u001b[1m188/188\u001b[0m \u001b[32m━━━━━━━━━━━━━━━━━━━━\u001b[0m\u001b[37m\u001b[0m \u001b[1m4s\u001b[0m 21ms/step - accuracy: 0.8291 - loss: 0.4850 - val_accuracy: 0.8260 - val_loss: 0.5130\n"
     ]
    },
    {
     "name": "stderr",
     "output_type": "stream",
     "text": [
      "WARNING:absl:You are saving your model as an HDF5 file via `model.save()` or `keras.saving.save_model(model)`. This file format is considered legacy. We recommend using instead the native Keras format, e.g. `model.save('my_model.keras')` or `keras.saving.save_model(model, 'my_model.keras')`. \n"
     ]
    }
   ],
   "source": [
    "# Train and save dropout model\n",
    "print(\"\\nRe-training dropout model...\")\n",
    "history_drop_improv, final_metrics_drop_improv = train_evaluate_model(\n",
    "    model_drop_improv, X_train, X_val, X_test, y_train, y_val, y_test\n",
    ")\n",
    "model_drop.save(f'../models/model_drop_improv_{timestamp}.h5')"
   ]
  },
  {
   "cell_type": "code",
   "execution_count": 101,
   "id": "b3dad706-c84c-4187-ba1a-933d56e9559d",
   "metadata": {},
   "outputs": [
    {
     "name": "stdout",
     "output_type": "stream",
     "text": [
      "\n",
      "Optimal Threshold (Youden's J): 0.5418\n",
      "\n",
      "TRAIN SET RESULTS:\n",
      "Error: 0.0705\n",
      "Loss: 0.4184\n",
      "Accuracy: 0.9295\n",
      "AUC-ROC: 0.9726\n",
      "Confusion Matrix:\n",
      "[[2805  224]\n",
      " [ 199 2772]]\n",
      "\n",
      "Classification Report:\n",
      "              precision    recall  f1-score   support\n",
      "\n",
      "           0       0.93      0.93      0.93      3029\n",
      "           1       0.93      0.93      0.93      2971\n",
      "\n",
      "    accuracy                           0.93      6000\n",
      "   macro avg       0.93      0.93      0.93      6000\n",
      "weighted avg       0.93      0.93      0.93      6000\n",
      "\n",
      "\n",
      "VAL SET RESULTS:\n",
      "Error: 0.1740\n",
      "Loss: 0.5130\n",
      "Accuracy: 0.8260\n",
      "AUC-ROC: 0.9019\n",
      "Confusion Matrix:\n",
      "[[814 214]\n",
      " [134 838]]\n",
      "\n",
      "Classification Report:\n",
      "              precision    recall  f1-score   support\n",
      "\n",
      "           0       0.86      0.79      0.82      1028\n",
      "           1       0.80      0.86      0.83       972\n",
      "\n",
      "    accuracy                           0.83      2000\n",
      "   macro avg       0.83      0.83      0.83      2000\n",
      "weighted avg       0.83      0.83      0.83      2000\n",
      "\n",
      "\n",
      "TEST SET RESULTS:\n",
      "Error: 0.1780\n",
      "Loss: 0.5206\n",
      "Accuracy: 0.8220\n",
      "AUC-ROC: 0.8923\n",
      "Confusion Matrix:\n",
      "[[799 225]\n",
      " [131 845]]\n",
      "\n",
      "Classification Report:\n",
      "              precision    recall  f1-score   support\n",
      "\n",
      "           0       0.86      0.78      0.82      1024\n",
      "           1       0.79      0.87      0.83       976\n",
      "\n",
      "    accuracy                           0.82      2000\n",
      "   macro avg       0.82      0.82      0.82      2000\n",
      "weighted avg       0.83      0.82      0.82      2000\n",
      "\n"
     ]
    },
    {
     "data": {
      "image/png": "[encoded data removed]",
      "text/plain": [
       "<Figure size 1000x800 with 1 Axes>"
      ]
     },
     "metadata": {},
     "output_type": "display_data"
    }
   ],
   "source": [
    "evaluate_final_model(final_metrics_drop_improv)"
   ]
  },
  {
   "cell_type": "code",
   "execution_count": null,
   "id": "212d78f5-4a61-4088-938f-e77cdc6bdb84",
   "metadata": {},
   "outputs": [],
   "source": []
  }
 ],
 "metadata": {
  "kernelspec": {
   "display_name": "TensorFlow-Env",
   "language": "python",
   "name": "myenv"
  },
  "language_info": {
   "codemirror_mode": {
    "name": "ipython",
    "version": 3
   },
   "file_extension": ".py",
   "mimetype": "text/x-python",
   "name": "python",
   "nbconvert_exporter": "python",
   "pygments_lexer": "ipython3",
   "version": "3.10.15"
  }
 },
 "nbformat": 4,
 "nbformat_minor": 5
}
